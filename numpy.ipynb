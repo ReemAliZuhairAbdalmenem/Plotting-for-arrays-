{
  "metadata": {
    "language_info": {
      "codemirror_mode": {
        "name": "python",
        "version": 3
      },
      "file_extension": ".py",
      "mimetype": "text/x-python",
      "name": "python",
      "nbconvert_exporter": "python",
      "pygments_lexer": "ipython3",
      "version": "3.8"
    },
    "kernelspec": {
      "name": "python",
      "display_name": "Python (Pyodide)",
      "language": "python"
    }
  },
  "nbformat_minor": 4,
  "nbformat": 4,
  "cells": [
    {
      "cell_type": "code",
      "source": "import matplotlib.pyplot as plt\nimport numpy as np\n",
      "metadata": {
        "trusted": true
      },
      "execution_count": 1,
      "outputs": []
    },
    {
      "cell_type": "code",
      "source": "plt.style.use('_mpl-gallery-nogrid')\n\n# make data\nX, Y = np.meshgrid(np.linspace(-3, 3, 16), np.linspace(-3, 3, 16))\nZ = (1 - X/2 + X**5 + Y**3) * np.exp(-X**2 - Y**2)\n\n# plot\nfig, ax = plt.subplots()\n\nax.imshow(Z)\n",
      "metadata": {},
      "execution_count": null,
      "outputs": []
    }
  ]
}